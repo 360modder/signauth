{
  "nbformat": 4,
  "nbformat_minor": 0,
  "metadata": {
    "colab": {
      "name": "SignAuth Google Colab",
      "provenance": [],
      "collapsed_sections": []
    },
    "kernelspec": {
      "display_name": "Python 3",
      "name": "python3"
    }
  },
  "cells": [
    {
      "cell_type": "markdown",
      "metadata": {
        "id": "RELSaKHdUlR6"
      },
      "source": [
        "# SignAuth - View On [Github](https://github.com/360modder/signauth)"
      ]
    },
    {
      "cell_type": "code",
      "metadata": {
        "id": "zY7n_LbwaEEN",
        "cellView": "form"
      },
      "source": [
        "#@title Install Dependencies\n",
        " \n",
        "import os\n",
        " \n",
        "if os.path.exists(\"signauth\"):\n",
        "  !rm -r signauth\n",
        " \n",
        "!git clone https://www.github.com/360modder/signauth.git\n",
        "working_dir = os.getcwd()\n",
        "os.chdir(\"signauth\")\n",
        "!pip install -r requirements.txt\n",
        "!pip install pandas\n",
        " \n",
        "import pandas as pd\n",
        "%load_ext google.colab.data_table"
      ],
      "execution_count": null,
      "outputs": []
    },
    {
      "cell_type": "markdown",
      "metadata": {
        "id": "Esc-PLaqVOvO"
      },
      "source": [
        "## Pre-Trained Model Predictions"
      ]
    },
    {
      "cell_type": "code",
      "metadata": {
        "id": "YjnP-9iyVwUE"
      },
      "source": [
        "#@title SignAuth (Pre-Trained) {display-mode: \"form\"}\n",
        " \n",
        "image_path = \"/content/\" #@param {type: \"string\"}\n",
        "scan = True #@param {type: \"boolean\"}\n",
        "\n",
        "if scan:\n",
        "  !python production/signauth.py image_path --scan\n",
        "else:\n",
        "  !python production/signauth.py image_path"
      ],
      "execution_count": null,
      "outputs": []
    },
    {
      "cell_type": "markdown",
      "metadata": {
        "id": "eXPfQdiIVbX1"
      },
      "source": [
        "## Training & Predictions"
      ]
    },
    {
      "cell_type": "code",
      "metadata": {
        "id": "fMLY7z6ajQsO"
      },
      "source": [
        "#@title Preprocess Images {display-mode: \"form\"}\n",
        " \n",
        "process = \"train,test,predict\" #@param [\"train,test,predict\", \"train\", \"test\", \"predict\"]\n",
        "scan = False #@param {type:\"boolean\"}\n",
        "backup = True #@param {type:\"boolean\"}\n",
        "overwrite = False #@param {type:\"boolean\"}\n",
        " \n",
        "if backup and overwrite:\n",
        "  !python preprocessing/preprocessor.py --process=$process --backup --overwrite\n",
        "elif backup:\n",
        "  !python preprocessing/preprocessor.py --process=$process --backup\n",
        "else:\n",
        "  !python preprocessing/preprocessor.py --process=$process\n",
        "\n",
        "if scan:\n",
        "  !python preprocessing/preprocessor.py --process=$process --scan"
      ],
      "execution_count": null,
      "outputs": []
    },
    {
      "cell_type": "code",
      "metadata": {
        "id": "0ppGVEfdi3Ed"
      },
      "source": [
        "#@title Train The Model {display-mode: \"form\"}\n",
        "#@markdown Adjust The Hyper-parameters\n",
        " \n",
        "batchsize = 20  #@param {type:\"slider\", min:4, max:30}\n",
        "epochs = 10  #@param {type:\"slider\", min:1, max:30}\n",
        "learningrate = 0.001 #@param {type:\"slider\", min:0.001, max:1.0, step:0.001}\n",
        " \n",
        "#@markdown Generate tflite Model\n",
        "tflitemodel = False  #@param {type:\"boolean\"}\n",
        " \n",
        "!python train.py --batchsize=$batchsize --epochs=$epochs --learningrate=$learningrate\n",
        " \n",
        "if tflitemodel:\n",
        "  !python models/tflite.py"
      ],
      "execution_count": null,
      "outputs": []
    },
    {
      "cell_type": "code",
      "metadata": {
        "id": "WGReB9s0c-Zb"
      },
      "source": [
        "#@title Predict Using Trained Model {display-mode: \"form\"}\n",
        " \n",
        "!python predict.py\n",
        "pd.read_csv(\"temp/predictions.csv\")"
      ],
      "execution_count": null,
      "outputs": []
    },
    {
      "cell_type": "code",
      "metadata": {
        "id": "BB2P3v93U7LE"
      },
      "source": [
        "#@title Other Utilities {display-mode: \"form\"}\n",
        " \n",
        "backtoroot = False #@param {type:\"boolean\"}\n",
        " \n",
        "if backtoroot:\n",
        "  os.chdir(working_dir)"
      ],
      "execution_count": null,
      "outputs": []
    }
  ]
}