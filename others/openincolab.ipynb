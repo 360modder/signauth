{
  "nbformat": 4,
  "nbformat_minor": 0,
  "metadata": {
    "colab": {
      "name": "Copy of Welcome to Colaboratory",
      "provenance": [],
      "collapsed_sections": []
    },
    "kernelspec": {
      "display_name": "Python 3",
      "name": "python3"
    }
  },
  "cells": [
    {
      "cell_type": "markdown",
      "metadata": {
        "id": "RELSaKHdUlR6"
      },
      "source": [
        "# SignAuth - View On [Github](https://github.com/360modder/signauth)"
      ]
    },
    {
      "cell_type": "code",
      "metadata": {
        "id": "zY7n_LbwaEEN",
        "cellView": "form"
      },
      "source": [
        "#@title Download & Install Dependencies\n",
        "\n",
        "import os\n",
        " \n",
        "if os.path.exists(\"signauth\"):\n",
        "  !rm -r signauth\n",
        " \n",
        "!git clone https://www.github.com/360modder/signauth.git\n",
        "os.chdir(\"signauth\")\n",
        "!pip install -r requirements.txt\n",
        "!pip install pandas\n",
        "\n",
        "%load_ext google.colab.data_table"
      ],
      "execution_count": null,
      "outputs": []
    },
    {
      "cell_type": "code",
      "metadata": {
        "id": "fMLY7z6ajQsO"
      },
      "source": [
        "#@title Preprocess Images {display-mode: \"form\"}\n",
        "\n",
        "process = \"train,test,predict\" #@param [\"train,test,predict\", \"train\", \"test\", \"predict\"]\n",
        "backup = True #@param {type:\"boolean\"}\n",
        "overwrite = True #@param {type:\"boolean\"}\n",
        "\n",
        "if backup and overwrite:\n",
        "  !python preprocessing/preprocessor.py --process=$process --backup --overwrite\n",
        "elif backup:\n",
        "  !python preprocessing/preprocessor.py --process=$process --backup\n",
        "else:\n",
        "  !python preprocessing/preprocessor.py --process=$process"
      ],
      "execution_count": null,
      "outputs": []
    },
    {
      "cell_type": "code",
      "metadata": {
        "id": "0ppGVEfdi3Ed"
      },
      "source": [
        "#@title Train The Model {display-mode: \"form\"}\n",
        "#@markdown Adjust The Hyper-parameters\n",
        " \n",
        "batchsize = 20  #@param {type:\"slider\", min:4, max:30}\n",
        "epochs = 10  #@param {type:\"slider\", min:1, max:30}\n",
        "learningrate = 0.001 #@param {type:\"slider\", min:0.001, max:1.0, step:0.001}\n",
        "\n",
        "#@markdown Generate tflite Model\n",
        "tflitemodel = True  #@param {type:\"boolean\"}\n",
        " \n",
        "!python train.py --batchsize=$batchsize --epochs=$epochs --learningrate=$learningrate\n",
        "\n",
        "if tflitemodel:\n",
        "  !python models/tflite.py"
      ],
      "execution_count": null,
      "outputs": []
    },
    {
      "cell_type": "code",
      "metadata": {
        "id": "WGReB9s0c-Zb"
      },
      "source": [
        "#@title Predict Using Trained Model {display-mode: \"form\"}\n",
        "\n",
        "realtime = False #@param {type:\"boolean\"}\n",
        "backtoroot = True #@param {type:\"boolean\"}\n",
        "\n",
        "if realtime:\n",
        "  !python predict.py\n",
        "else:\n",
        "  !python predict.py > temp/output.txt\n",
        "  import pandas as pd\n",
        "\n",
        "pd.read_csv(\"temp/predictions.csv\")\n",
        "\n",
        "if backtoroot:\n",
        "  if os.path.exists(\"signauth\") is False:\n",
        "    os.chdir(\"..\")"
      ],
      "execution_count": null,
      "outputs": []
    }
  ]
}
